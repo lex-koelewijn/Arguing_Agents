{
 "cells": [
  {
   "cell_type": "markdown",
   "metadata": {},
   "source": [
    "# ABCN2 Algorithm"
   ]
  },
  {
   "cell_type": "markdown",
   "metadata": {},
   "source": [
    "The following notebook is used to import a dataset, and apply the ABCN2 algorithm to it. This uses the CN2 rule based learning algorithm, as well as expert rules which we will also derive from the dataset in this notebook\n",
    "\n",
    "Data: Heart Attack Prediction, https://www.kaggle.com/imnikhilanand/heart-attack-prediction/downloads/heart-attack-prediction.zip/1"
   ]
  },
  {
   "cell_type": "markdown",
   "metadata": {},
   "source": [
    "## Imports and reading data"
   ]
  },
  {
   "cell_type": "code",
   "execution_count": 1,
   "metadata": {},
   "outputs": [],
   "source": [
    "import numpy as np\n",
    "import pandas as pd\n",
    "import Orange"
   ]
  },
  {
   "cell_type": "code",
   "execution_count": 2,
   "metadata": {},
   "outputs": [],
   "source": [
    "FILE_INPUT = 'data.csv'"
   ]
  },
  {
   "cell_type": "code",
   "execution_count": 3,
   "metadata": {},
   "outputs": [],
   "source": [
    "df = pd.read_csv(FILE_INPUT)\n",
    "df = df.replace('?', np.nan)"
   ]
  },
  {
   "cell_type": "markdown",
   "metadata": {},
   "source": [
    "## Data exploration"
   ]
  },
  {
   "cell_type": "code",
   "execution_count": 4,
   "metadata": {},
   "outputs": [
    {
     "data": {
      "text/html": [
       "<div>\n",
       "<style scoped>\n",
       "    .dataframe tbody tr th:only-of-type {\n",
       "        vertical-align: middle;\n",
       "    }\n",
       "\n",
       "    .dataframe tbody tr th {\n",
       "        vertical-align: top;\n",
       "    }\n",
       "\n",
       "    .dataframe thead th {\n",
       "        text-align: right;\n",
       "    }\n",
       "</style>\n",
       "<table border=\"1\" class=\"dataframe\">\n",
       "  <thead>\n",
       "    <tr style=\"text-align: right;\">\n",
       "      <th></th>\n",
       "      <th>age</th>\n",
       "      <th>sex</th>\n",
       "      <th>cp</th>\n",
       "      <th>trestbps</th>\n",
       "      <th>chol</th>\n",
       "      <th>fbs</th>\n",
       "      <th>restecg</th>\n",
       "      <th>thalach</th>\n",
       "      <th>exang</th>\n",
       "      <th>oldpeak</th>\n",
       "      <th>slope</th>\n",
       "      <th>ca</th>\n",
       "      <th>thal</th>\n",
       "      <th>num</th>\n",
       "    </tr>\n",
       "  </thead>\n",
       "  <tbody>\n",
       "    <tr>\n",
       "      <td>0</td>\n",
       "      <td>28</td>\n",
       "      <td>1</td>\n",
       "      <td>2</td>\n",
       "      <td>130</td>\n",
       "      <td>132</td>\n",
       "      <td>0</td>\n",
       "      <td>2</td>\n",
       "      <td>185</td>\n",
       "      <td>0</td>\n",
       "      <td>0.0</td>\n",
       "      <td>NaN</td>\n",
       "      <td>NaN</td>\n",
       "      <td>NaN</td>\n",
       "      <td>0</td>\n",
       "    </tr>\n",
       "    <tr>\n",
       "      <td>1</td>\n",
       "      <td>29</td>\n",
       "      <td>1</td>\n",
       "      <td>2</td>\n",
       "      <td>120</td>\n",
       "      <td>243</td>\n",
       "      <td>0</td>\n",
       "      <td>0</td>\n",
       "      <td>160</td>\n",
       "      <td>0</td>\n",
       "      <td>0.0</td>\n",
       "      <td>NaN</td>\n",
       "      <td>NaN</td>\n",
       "      <td>NaN</td>\n",
       "      <td>0</td>\n",
       "    </tr>\n",
       "    <tr>\n",
       "      <td>2</td>\n",
       "      <td>29</td>\n",
       "      <td>1</td>\n",
       "      <td>2</td>\n",
       "      <td>140</td>\n",
       "      <td>NaN</td>\n",
       "      <td>0</td>\n",
       "      <td>0</td>\n",
       "      <td>170</td>\n",
       "      <td>0</td>\n",
       "      <td>0.0</td>\n",
       "      <td>NaN</td>\n",
       "      <td>NaN</td>\n",
       "      <td>NaN</td>\n",
       "      <td>0</td>\n",
       "    </tr>\n",
       "    <tr>\n",
       "      <td>3</td>\n",
       "      <td>30</td>\n",
       "      <td>0</td>\n",
       "      <td>1</td>\n",
       "      <td>170</td>\n",
       "      <td>237</td>\n",
       "      <td>0</td>\n",
       "      <td>1</td>\n",
       "      <td>170</td>\n",
       "      <td>0</td>\n",
       "      <td>0.0</td>\n",
       "      <td>NaN</td>\n",
       "      <td>NaN</td>\n",
       "      <td>6</td>\n",
       "      <td>0</td>\n",
       "    </tr>\n",
       "    <tr>\n",
       "      <td>4</td>\n",
       "      <td>31</td>\n",
       "      <td>0</td>\n",
       "      <td>2</td>\n",
       "      <td>100</td>\n",
       "      <td>219</td>\n",
       "      <td>0</td>\n",
       "      <td>1</td>\n",
       "      <td>150</td>\n",
       "      <td>0</td>\n",
       "      <td>0.0</td>\n",
       "      <td>NaN</td>\n",
       "      <td>NaN</td>\n",
       "      <td>NaN</td>\n",
       "      <td>0</td>\n",
       "    </tr>\n",
       "  </tbody>\n",
       "</table>\n",
       "</div>"
      ],
      "text/plain": [
       "   age  sex  cp trestbps chol fbs restecg thalach exang  oldpeak slope   ca  \\\n",
       "0   28    1   2      130  132   0       2     185     0      0.0   NaN  NaN   \n",
       "1   29    1   2      120  243   0       0     160     0      0.0   NaN  NaN   \n",
       "2   29    1   2      140  NaN   0       0     170     0      0.0   NaN  NaN   \n",
       "3   30    0   1      170  237   0       1     170     0      0.0   NaN  NaN   \n",
       "4   31    0   2      100  219   0       1     150     0      0.0   NaN  NaN   \n",
       "\n",
       "  thal  num         \n",
       "0  NaN           0  \n",
       "1  NaN           0  \n",
       "2  NaN           0  \n",
       "3    6           0  \n",
       "4  NaN           0  "
      ]
     },
     "execution_count": 4,
     "metadata": {},
     "output_type": "execute_result"
    }
   ],
   "source": [
    "df.head()"
   ]
  },
  {
   "cell_type": "code",
   "execution_count": 5,
   "metadata": {},
   "outputs": [
    {
     "name": "stdout",
     "output_type": "stream",
     "text": [
      "<class 'pandas.core.frame.DataFrame'>\n",
      "RangeIndex: 294 entries, 0 to 293\n",
      "Data columns (total 14 columns):\n",
      "age           294 non-null int64\n",
      "sex           294 non-null int64\n",
      "cp            294 non-null int64\n",
      "trestbps      293 non-null object\n",
      "chol          271 non-null object\n",
      "fbs           286 non-null object\n",
      "restecg       293 non-null object\n",
      "thalach       293 non-null object\n",
      "exang         293 non-null object\n",
      "oldpeak       294 non-null float64\n",
      "slope         104 non-null object\n",
      "ca            3 non-null object\n",
      "thal          28 non-null object\n",
      "num           294 non-null int64\n",
      "dtypes: float64(1), int64(4), object(9)\n",
      "memory usage: 32.3+ KB\n"
     ]
    }
   ],
   "source": [
    "df.info()"
   ]
  },
  {
   "cell_type": "code",
   "execution_count": 6,
   "metadata": {},
   "outputs": [
    {
     "data": {
      "text/html": [
       "<div>\n",
       "<style scoped>\n",
       "    .dataframe tbody tr th:only-of-type {\n",
       "        vertical-align: middle;\n",
       "    }\n",
       "\n",
       "    .dataframe tbody tr th {\n",
       "        vertical-align: top;\n",
       "    }\n",
       "\n",
       "    .dataframe thead th {\n",
       "        text-align: right;\n",
       "    }\n",
       "</style>\n",
       "<table border=\"1\" class=\"dataframe\">\n",
       "  <thead>\n",
       "    <tr style=\"text-align: right;\">\n",
       "      <th></th>\n",
       "      <th>age</th>\n",
       "      <th>sex</th>\n",
       "      <th>cp</th>\n",
       "      <th>oldpeak</th>\n",
       "      <th>num</th>\n",
       "    </tr>\n",
       "  </thead>\n",
       "  <tbody>\n",
       "    <tr>\n",
       "      <td>count</td>\n",
       "      <td>294.000000</td>\n",
       "      <td>294.000000</td>\n",
       "      <td>294.000000</td>\n",
       "      <td>294.000000</td>\n",
       "      <td>294.000000</td>\n",
       "    </tr>\n",
       "    <tr>\n",
       "      <td>mean</td>\n",
       "      <td>47.826531</td>\n",
       "      <td>0.724490</td>\n",
       "      <td>2.982993</td>\n",
       "      <td>0.586054</td>\n",
       "      <td>0.360544</td>\n",
       "    </tr>\n",
       "    <tr>\n",
       "      <td>std</td>\n",
       "      <td>7.811812</td>\n",
       "      <td>0.447533</td>\n",
       "      <td>0.965117</td>\n",
       "      <td>0.908648</td>\n",
       "      <td>0.480977</td>\n",
       "    </tr>\n",
       "    <tr>\n",
       "      <td>min</td>\n",
       "      <td>28.000000</td>\n",
       "      <td>0.000000</td>\n",
       "      <td>1.000000</td>\n",
       "      <td>0.000000</td>\n",
       "      <td>0.000000</td>\n",
       "    </tr>\n",
       "    <tr>\n",
       "      <td>25%</td>\n",
       "      <td>42.000000</td>\n",
       "      <td>0.000000</td>\n",
       "      <td>2.000000</td>\n",
       "      <td>0.000000</td>\n",
       "      <td>0.000000</td>\n",
       "    </tr>\n",
       "    <tr>\n",
       "      <td>50%</td>\n",
       "      <td>49.000000</td>\n",
       "      <td>1.000000</td>\n",
       "      <td>3.000000</td>\n",
       "      <td>0.000000</td>\n",
       "      <td>0.000000</td>\n",
       "    </tr>\n",
       "    <tr>\n",
       "      <td>75%</td>\n",
       "      <td>54.000000</td>\n",
       "      <td>1.000000</td>\n",
       "      <td>4.000000</td>\n",
       "      <td>1.000000</td>\n",
       "      <td>1.000000</td>\n",
       "    </tr>\n",
       "    <tr>\n",
       "      <td>max</td>\n",
       "      <td>66.000000</td>\n",
       "      <td>1.000000</td>\n",
       "      <td>4.000000</td>\n",
       "      <td>5.000000</td>\n",
       "      <td>1.000000</td>\n",
       "    </tr>\n",
       "  </tbody>\n",
       "</table>\n",
       "</div>"
      ],
      "text/plain": [
       "              age         sex          cp     oldpeak  num       \n",
       "count  294.000000  294.000000  294.000000  294.000000  294.000000\n",
       "mean    47.826531    0.724490    2.982993    0.586054    0.360544\n",
       "std      7.811812    0.447533    0.965117    0.908648    0.480977\n",
       "min     28.000000    0.000000    1.000000    0.000000    0.000000\n",
       "25%     42.000000    0.000000    2.000000    0.000000    0.000000\n",
       "50%     49.000000    1.000000    3.000000    0.000000    0.000000\n",
       "75%     54.000000    1.000000    4.000000    1.000000    1.000000\n",
       "max     66.000000    1.000000    4.000000    5.000000    1.000000"
      ]
     },
     "execution_count": 6,
     "metadata": {},
     "output_type": "execute_result"
    }
   ],
   "source": [
    "df.describe()"
   ]
  },
  {
   "cell_type": "code",
   "execution_count": 7,
   "metadata": {},
   "outputs": [
    {
     "data": {
      "text/plain": [
       "age            38\n",
       "sex             2\n",
       "cp              4\n",
       "trestbps       31\n",
       "chol          153\n",
       "fbs             2\n",
       "restecg         3\n",
       "thalach        71\n",
       "exang           2\n",
       "oldpeak        10\n",
       "slope           3\n",
       "ca              1\n",
       "thal            3\n",
       "num             2\n",
       "dtype: int64"
      ]
     },
     "execution_count": 7,
     "metadata": {},
     "output_type": "execute_result"
    }
   ],
   "source": [
    "# Prints unique values\n",
    "df.nunique()"
   ]
  },
  {
   "cell_type": "code",
   "execution_count": 8,
   "metadata": {},
   "outputs": [
    {
     "data": {
      "text/plain": [
       "age             0\n",
       "sex             0\n",
       "cp              0\n",
       "trestbps        1\n",
       "chol           23\n",
       "fbs             8\n",
       "restecg         1\n",
       "thalach         1\n",
       "exang           1\n",
       "oldpeak         0\n",
       "slope         190\n",
       "ca            291\n",
       "thal          266\n",
       "num             0\n",
       "dtype: int64"
      ]
     },
     "execution_count": 8,
     "metadata": {},
     "output_type": "execute_result"
    }
   ],
   "source": [
    "# Number of NaNs in the dataframe\n",
    "df.isnull().sum()"
   ]
  },
  {
   "cell_type": "markdown",
   "metadata": {},
   "source": [
    "## CN2 Algorithm"
   ]
  },
  {
   "cell_type": "markdown",
   "metadata": {},
   "source": [
    "Documentation: https://github.com/biolab/orange3, https://docs.biolab.si//3/data-mining-library/"
   ]
  },
  {
   "cell_type": "code",
   "execution_count": 155,
   "metadata": {},
   "outputs": [],
   "source": [
    "data = Orange.data.Table(FILE_INPUT)\n",
    "\n",
    "# Exclude cols: slope, cal and thal which contain a lot of missing values\n",
    "new_domain = Orange.data.Domain(\n",
    "    list(heart_attack.domain.attributes[:10]),\n",
    "    list(heart_attack.domain.attributes[13:])\n",
    ")\n",
    "\n",
    "\n",
    "heart_attack = Orange.data.Table(new_domain, data)"
   ]
  },
  {
   "cell_type": "code",
   "execution_count": 163,
   "metadata": {},
   "outputs": [
    {
     "name": "stdout",
     "output_type": "stream",
     "text": [
      "[[28, 1, 2, 130, 132, 0, 2, 185, 0, 0.0 | 0],\n",
      " [29, 1, 2, 120, 243, 0, 0, 160, 0, 0.0 | 0],\n",
      " [29, 1, 2, 140, ?, 0, 0, 170, 0, 0.0 | 0],\n",
      " [30, 0, 1, 170, 237, 0, 1, 170, 0, 0.0 | 0],\n",
      " [31, 0, 2, 100, 219, 0, 1, 150, 0, 0.0 | 0],\n",
      " [32, 0, 2, 105, 198, 0, 0, 165, 0, 0.0 | 0],\n",
      " [32, 1, 2, 110, 225, 0, 0, 184, 0, 0.0 | 0],\n",
      " [32, 1, 2, 125, 254, 0, 0, 155, 0, 0.0 | 0],\n",
      " [33, 1, 3, 120, 298, 0, 0, 185, 0, 0.0 | 0],\n",
      " [34, 0, 2, 130, 161, 0, 0, 190, 0, 0.0 | 0]]\n"
     ]
    }
   ],
   "source": [
    "print(heart_attack[0:10])"
   ]
  },
  {
   "cell_type": "code",
   "execution_count": 157,
   "metadata": {},
   "outputs": [
    {
     "data": {
      "text/plain": [
       "(ContinuousVariable(name='age', number_of_decimals=0),\n",
       " DiscreteVariable(name='sex', values=['0', '1']),\n",
       " ContinuousVariable(name='cp', number_of_decimals=0),\n",
       " ContinuousVariable(name='trestbps', number_of_decimals=0),\n",
       " ContinuousVariable(name='chol', number_of_decimals=0),\n",
       " DiscreteVariable(name='fbs', values=['0', '1']),\n",
       " ContinuousVariable(name='restecg', number_of_decimals=0),\n",
       " ContinuousVariable(name='thalach', number_of_decimals=0),\n",
       " DiscreteVariable(name='exang', values=['0', '1']),\n",
       " ContinuousVariable(name='oldpeak', number_of_decimals=1))"
      ]
     },
     "execution_count": 157,
     "metadata": {},
     "output_type": "execute_result"
    }
   ],
   "source": [
    "heart_attack.domain.attributes"
   ]
  },
  {
   "cell_type": "code",
   "execution_count": 158,
   "metadata": {},
   "outputs": [
    {
     "name": "stdout",
     "output_type": "stream",
     "text": [
      " 0.0% age\n",
      " 0.0% sex\n",
      " 0.0% cp\n",
      " 0.3% trestbps\n",
      " 7.8% chol\n",
      " 2.7% fbs\n",
      " 0.3% restecg\n",
      " 0.3% thalach\n",
      " 0.3% exang\n",
      " 0.0% oldpeak\n"
     ]
    }
   ],
   "source": [
    "for x in heart_attack.domain.attributes:\n",
    "    n_miss = sum(1 for d in heart_attack if np.isnan(d[x]))\n",
    "    print(\"%4.1f%% %s\" % (100.0 * n_miss / len(heart_attack), x.name))"
   ]
  },
  {
   "cell_type": "code",
   "execution_count": 159,
   "metadata": {},
   "outputs": [
    {
     "data": {
      "text/plain": [
       "DiscreteVariable(name='num', values=['0', '1'])"
      ]
     },
     "execution_count": 159,
     "metadata": {},
     "output_type": "execute_result"
    }
   ],
   "source": [
    "heart_attack.domain.class_var"
   ]
  },
  {
   "cell_type": "code",
   "execution_count": 162,
   "metadata": {},
   "outputs": [
    {
     "name": "stdout",
     "output_type": "stream",
     "text": [
      "[0, 5] IF age>=63.0 THEN num=1  -0.0\n",
      "[1, 0] IF restecg>=2.0 AND sex==0 THEN num=0  -0.0\n",
      "[6, 0] IF exang==0 AND trestbps>=170.0 THEN num=0  -0.0\n",
      "[0, 3] IF exang==0 AND chol>=491.0 THEN num=1  -0.0\n",
      "[4, 0] IF exang==0 AND restecg>=2.0 THEN num=0  -0.0\n",
      "[0, 1] IF restecg>=2.0 THEN num=1  -0.0\n",
      "[3, 0] IF thalach>=132.0 AND age>=59.0 THEN num=0  -0.0\n",
      "[0, 6] IF oldpeak>=1.0 AND chol>=388.0 THEN num=1  -0.0\n",
      "[21, 0] IF exang==0 AND chol>=297.0 THEN num=0  -0.0\n",
      "[0, 9] IF oldpeak>=1.0 AND chol>=329.0 THEN num=1  -0.0\n",
      "[3, 0] IF exang!=0 AND age>=59.0 THEN num=0  -0.0\n",
      "[2, 0] IF exang!=0 AND chol>=328.0 THEN num=0  -0.0\n",
      "[0, 3] IF trestbps>=170.0 THEN num=1  -0.0\n",
      "[0, 3] IF sex==0 AND chol>=288.0 THEN num=1  -0.0\n",
      "[14, 0] IF sex==0 AND restecg>=1.0 THEN num=0  -0.0\n",
      "[0, 5] IF exang!=0 AND trestbps>=160.0 THEN num=1  -0.0\n",
      "[1, 0] IF chol<=201.0 AND fbs!=0 THEN num=0  -0.0\n",
      "[3, 0] IF exang!=0 AND thalach>=160.0 THEN num=0  -0.0\n",
      "[3, 0] IF thalach>=135.0 AND thalach>=184.0 THEN num=0  -0.0\n",
      "[0, 6] IF oldpeak>=1.0 AND chol>=277.0 THEN num=1  -0.0\n",
      "[16, 0] IF sex==0 AND age>=50.0 THEN num=0  -0.0\n",
      "[0, 1] IF sex==0 AND trestbps>=160.0 THEN num=1  -0.0\n",
      "[5, 0] IF sex==0 AND trestbps>=140.0 THEN num=0  -0.0\n",
      "[0, 2] IF sex==0 AND trestbps>=135.0 THEN num=1  -0.0\n",
      "[0, 2] IF age>=59.0 THEN num=1  -0.0\n",
      "[7, 0] IF sex==0 AND chol>=250.84870848708488 THEN num=0  -0.0\n",
      "[6, 0] IF sex==0 AND trestbps>=124.0 THEN num=0  -0.0\n",
      "[0, 2] IF exang!=0 AND sex==0 THEN num=1  -0.0\n",
      "[5, 0] IF sex==0 THEN num=0  -0.0\n",
      "[0, 6] IF thalach<=98.0 AND age>=47.0 THEN num=1  -0.0\n",
      "[4, 0] IF trestbps>=160.0 THEN num=0  -0.0\n",
      "[0, 16] IF oldpeak>=1.0 AND trestbps>=135.0 THEN num=1  -0.0\n",
      "[6, 0] IF thalach<=110.0 AND age>=51.0 THEN num=0  -0.0\n",
      "[7, 0] IF trestbps>=135.0 AND trestbps>=150.0 THEN num=0  -0.0\n",
      "[0, 1] IF trestbps>=135.0 AND chol>=295.0 THEN num=1  -0.0\n",
      "[3, 0] IF trestbps>=135.0 AND chol>=276.0 THEN num=0  -0.0\n",
      "[0, 1] IF trestbps>=135.0 AND trestbps>=145.0 THEN num=1  -0.0\n",
      "[2, 0] IF trestbps>=135.0 AND fbs!=0 THEN num=0  -0.0\n",
      "[1, 0] IF trestbps>=135.0 AND restecg>=1.0 THEN num=0  -0.0\n",
      "[0, 1] IF trestbps>=135.0 AND thalach>=180.0 THEN num=1  -0.0\n",
      "[11, 0] IF trestbps>=135.0 AND thalach>=130.0 THEN num=0  -0.0\n",
      "[1, 0] IF exang!=0 AND chol>=276.0 THEN num=0  -0.0\n",
      "[0, 5] IF exang!=0 AND trestbps>=130.0 THEN num=1  -0.0\n",
      "[5, 0] IF age>=55.0 AND chol>=230.0 THEN num=0  -0.0\n",
      "[0, 1] IF age>=58.0 THEN num=1  -0.0\n",
      "[0, 2] IF fbs!=0 THEN num=1  -0.0\n",
      "[2, 0] IF trestbps>=130.0 AND trestbps>=135.0 THEN num=0  -0.0\n",
      "[3, 0] IF restecg>=1.0 AND age>=46.0 THEN num=0  -0.0\n",
      "[0, 5] IF exang!=0 AND age>=43.0 THEN num=1  -0.0\n",
      "[0, 4] IF exang!=0 AND cp>=4.0 THEN num=1  -0.0\n",
      "[1, 0] IF exang!=0 THEN num=0  -0.0\n",
      "[0, 1] IF chol<=257.0 AND chol>=257.0 THEN num=1  -0.0\n",
      "[1, 0] IF age<=36.0 AND cp>=3.0 THEN num=0  -0.0\n",
      "[0, 1] IF age<=36.0 AND chol>=267.0 THEN num=1  -0.0\n",
      "[3, 0] IF thalach>=132.0 AND oldpeak>=1.0 THEN num=0  -0.0\n",
      "[0, 3] IF oldpeak>=2.0 THEN num=1  -0.0\n",
      "[0, 1] IF thalach<=166.0 AND thalach>=166.0 THEN num=1  -0.0\n",
      "[3, 0] IF age<=38.0 AND trestbps>=125.0 THEN num=0  -0.0\n",
      "[0, 1] IF chol<=280.0 AND chol>=280.0 THEN num=1  -0.0\n",
      "[5, 0] IF trestbps<=110.0 AND age>=47.0 THEN num=0  -0.0\n",
      "[5, 0] IF age<=43.0 AND trestbps>=125.0 THEN num=0  -0.0\n",
      "[0, 1] IF age<=38.0 AND chol>=282.0 THEN num=1  -0.0\n",
      "[7, 0] IF age<=41.0 AND trestbps>=112.0 THEN num=0  -0.0\n",
      "[0, 2] IF chol>=289.0 THEN num=1  -0.0\n",
      "[0, 2] IF thalach>=170.0 THEN num=1  -0.0\n",
      "[8, 0] IF chol>=224.0 THEN num=0  -0.0\n",
      "[0, 1] IF chol>=222.0 THEN num=1  -0.0\n",
      "[2, 0] IF trestbps>=130.0 THEN num=0  -0.0\n",
      "[0, 1] IF chol>=188.0 AND cp>=4.0 THEN num=1  -0.0\n",
      "[6, 0] IF chol>=188.0 THEN num=0  -0.0\n",
      "[0, 2] IF chol>=182.0 THEN num=1  -0.0\n",
      "[2, 0] IF age<=56.0 THEN num=0  -0.0\n",
      "[188, 106] IF TRUE THEN num=0  -0.9431340036829803\n"
     ]
    }
   ],
   "source": [
    "# Construct a learning algorithm and classifier\n",
    "cn2_learner = Orange.classification.rules.CN2Learner()\n",
    "cn2_classifier = cn2_learner(heart_attack)\n",
    "\n",
    "# Print out the found rules, with the quality of the rule, and curr_class_dist\n",
    "for rule in cn2_classifier.rule_list:\n",
    "    print(rule.curr_class_dist.tolist(), rule, rule.quality)"
   ]
  }
 ],
 "metadata": {
  "kernelspec": {
   "display_name": "Python 3",
   "language": "python",
   "name": "python3"
  },
  "language_info": {
   "codemirror_mode": {
    "name": "ipython",
    "version": 3
   },
   "file_extension": ".py",
   "mimetype": "text/x-python",
   "name": "python",
   "nbconvert_exporter": "python",
   "pygments_lexer": "ipython3",
   "version": "3.7.4"
  }
 },
 "nbformat": 4,
 "nbformat_minor": 4
}
